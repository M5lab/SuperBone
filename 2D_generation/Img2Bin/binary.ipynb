{
 "cells": [
  {
   "cell_type": "code",
   "execution_count": 14,
   "metadata": {},
   "outputs": [
    {
     "data": {
      "text/plain": [
       "True"
      ]
     },
     "execution_count": 14,
     "metadata": {},
     "output_type": "execute_result"
    }
   ],
   "source": [
    "import cv2\n",
    "import numpy as np\n",
    "\n",
    "# 讀取圖片\n",
    "img = cv2.imread('image.jpg')\n",
    "\n",
    "#show the original image\n",
    "# cv2.imshow('Original Image', img)\n",
    "#save the original image\n",
    "# cv2.imwrite('original.jpg', img)\n",
    "\n",
    "# 灰度化\n",
    "gray = cv2.cvtColor(img, cv2.COLOR_BGR2GRAY)\n",
    "#save the gray image\n",
    "# cv2.imwrite('gray.jpg', gray)\n",
    "\n",
    "#show the gray image\n",
    "# cv2.imshow('Gray Image', gray)\n",
    "\n",
    "# 提高對比度\n",
    "hist, bins = np.histogram(gray.flatten(), 256, [0, 256])\n",
    "cdf = hist.cumsum()\n",
    "cdf_m = np.ma.masked_equal(cdf, 0)\n",
    "cdf_m = (cdf_m - cdf_m.min()) * 255 / (cdf_m.max() - cdf_m.min())\n",
    "cdf = np.ma.filled(cdf_m, 0).astype('uint8') \n",
    "gray = cdf[gray]\n",
    "\n",
    "#show the contrast image\n",
    "# cv2.imshow('Contrast Image', gray)\n",
    "\n",
    "#save the contrast image\n",
    "cv2.imwrite('contrast.jpg', gray)\n",
    "\n",
    "# 高斯模糊強化邊界\n",
    "blurred = cv2.GaussianBlur(gray, (5, 5), 0)\n",
    "\n",
    "#show the blurred image\n",
    "# cv2.imshow('Blurred Image', blurred)\n",
    "\n",
    "#save the blurred image\n",
    "# cv2.imwrite('blurred.jpg', blurred)\n",
    "\n",
    "# 邊緣檢測\n",
    "edges = cv2.Canny(blurred, 1, 30)\n",
    "\n",
    "#show the edges image\n",
    "# cv2.imshow('Edges Image', edges)\n",
    "\n",
    "#save the edges image\n",
    "cv2.imwrite('edges.jpg', edges)\n",
    "\n",
    "# 將邊界設為黑色，其他部分設為白色\n",
    "binary = cv2.threshold(edges, 30, 255, cv2.THRESH_BINARY_INV)[1]\n",
    "\n",
    "#show the binary image\n",
    "# cv2.imshow('Binary Image', binary)\n",
    "\n",
    "#save the binary image\n",
    "cv2.imwrite('binary.jpg', binary)\n",
    "\n",
    "# 擴大邊界以使黑色部分的面積達到所需的比例\n",
    "dilated = cv2.dilate(binary, None, iterations=2)\n",
    "\n",
    "# 顯示二維化的圖形\n",
    "# cv2.imshow('2D Image', dilated)\n",
    "\n",
    "#save the 2D image\n",
    "cv2.imwrite('2D.jpg', dilated)\n",
    "# cv2.destroyAllWindows()"
   ]
  }
 ],
 "metadata": {
  "kernelspec": {
   "display_name": "Python 3",
   "language": "python",
   "name": "python3"
  },
  "language_info": {
   "codemirror_mode": {
    "name": "ipython",
    "version": 3
   },
   "file_extension": ".py",
   "mimetype": "text/x-python",
   "name": "python",
   "nbconvert_exporter": "python",
   "pygments_lexer": "ipython3",
   "version": "3.10.11"
  }
 },
 "nbformat": 4,
 "nbformat_minor": 2
}
