{
 "cells": [
  {
   "cell_type": "code",
   "execution_count": 10,
   "metadata": {},
   "outputs": [],
   "source": [
    "from ovito.io import *\n",
    "from ovito.modifiers import *\n",
    "from ovito.data import *\n",
    "from ovito.data import CutoffNeighborFinder\n",
    "\n",
    "import sys\n",
    "import numpy as np\n",
    "import pandas as pd\n",
    "import matplotlib.pyplot as plt\n",
    "import os"
   ]
  },
  {
   "cell_type": "code",
   "execution_count": 11,
   "metadata": {},
   "outputs": [],
   "source": [
    "def datacollection2DataFrame(data):\n",
    "    pos_prop = data.particles[\"Position\"][:]\n",
    "    type_prop = data.particles[\"Particle Type\"][:]\n",
    "    id_prop = data.particles[\"Particle Identifier\"][:]\n",
    "    combined_data = np.column_stack((id_prop, type_prop, pos_prop))\n",
    "    df = pd.DataFrame(combined_data, columns=['id', 'type', 'x', 'y', 'z'])\n",
    "    return df"
   ]
  },
  {
   "cell_type": "code",
   "execution_count": 12,
   "metadata": {},
   "outputs": [],
   "source": [
    "def cal_dist(pos1, pos2):\n",
    "    dist = np.sqrt(sum((pos1 - pos2) * (pos1 - pos2)))\n",
    "    return dist"
   ]
  },
  {
   "cell_type": "code",
   "execution_count": 13,
   "metadata": {},
   "outputs": [],
   "source": [
    "def cal_neigh_dist(id_of_center_atom, data, index_of_neigh):\n",
    "    pos_center_atom = data.particles[\"Position\"][id_of_center_atom]\n",
    "    neigh_id = index_of_neigh[id_of_center_atom]\n",
    "    distance = []\n",
    "    for index in neigh_id:\n",
    "        pos_neigh = data.particles[\"Position\"][index]\n",
    "        distance.append(cal_dist(pos_center_atom, pos_neigh))\n",
    "    return distance"
   ]
  },
  {
   "cell_type": "code",
   "execution_count": 14,
   "metadata": {},
   "outputs": [],
   "source": [
    "def cutoff_bypairtype(type1, type2):\n",
    "    a = 2\n",
    "    cutoff_11 = 0.00022 * a\n",
    "    cutoff_12 = 0.0003 * a\n",
    "    cutoff_22 = 0.00025 * a\n",
    "\n",
    "    checknumber = ((type1 + type2) % 3)\n",
    "    if checknumber == 2:\n",
    "        return cutoff_11\n",
    "    elif checknumber == 0:\n",
    "        return cutoff_12\n",
    "    else:\n",
    "        return cutoff_22"
   ]
  },
  {
   "cell_type": "code",
   "execution_count": 15,
   "metadata": {},
   "outputs": [],
   "source": [
    "def findCrackedIDAndBondCenter(data, dist_list, index_of_neigh, data_df):\n",
    "    cracked_id = []\n",
    "    broken_bond_centers = []\n",
    "    for index in range(data.particles.count):\n",
    "        for len_idx, dist_value in enumerate(dist_list[index]):\n",
    "            neigh_index = index_of_neigh[index][len_idx]\n",
    "            center_type = data_df['type'][index]\n",
    "            neigh_type = data_df['type'][neigh_index]\n",
    "            if dist_value > cutoff_bypairtype(center_type, neigh_type):\n",
    "                cracked_id.append(neigh_index)\n",
    "                pos1 = data.particles[\"Position\"][index]\n",
    "                pos2 = data.particles[\"Position\"][neigh_index]\n",
    "                center_pos = (pos1 + pos2) / 2\n",
    "                broken_bond_centers.append(center_pos)\n",
    "    broken_bond_centers = np.array(broken_bond_centers)\n",
    "    return cracked_id, broken_bond_centers"
   ]
  },
  {
   "cell_type": "code",
   "execution_count": null,
   "metadata": {},
   "outputs": [],
   "source": [
    "def process_file(file_path):\n",
    "    pipeline = import_file(file_path, sort_particles=True)\n",
    "    \n",
    "    data = pipeline.compute(0)\n",
    "    numOfFinalFrame = pipeline.source.num_frames - 1\n",
    "    data_final = pipeline.compute(numOfFinalFrame)\n",
    "\n",
    "    data_df = datacollection2DataFrame(data)\n",
    "    data_final_df = datacollection2DataFrame(data_final)\n",
    "\n",
    "    index_of_neigh = [[] for _ in range(data.particles.count)]\n",
    "    cutoff = 0.0002001\n",
    "    finder = CutoffNeighborFinder(cutoff, data)\n",
    "    \n",
    "    for index in range(data.particles.count):\n",
    "        temp = []\n",
    "        for neigh in finder.find(index):\n",
    "            temp.append(neigh.index)\n",
    "        index_of_neigh[index] = temp\n",
    "\n",
    "    dist_list = [[] for _ in range(data_final.particles.count)]\n",
    "    for index in range(data_final.particles.count):\n",
    "        dist_list[index] = cal_neigh_dist(index, data_final, index_of_neigh)\n",
    "\n",
    "    cracked_id, broken_bond_centers = findCrackedIDAndBondCenter(data_final, dist_list, index_of_neigh, data_df)\n",
    "\n",
    "\n",
    "    pos_final = data_final.particles[\"Position\"]\n",
    "\n",
    "    crack_pos_final = pos_final[cracked_id][:, :2]\n",
    "\n",
    "    file_name = os.path.splitext(os.path.basename(file_path))[0]\n",
    "    os.makedirs(\"crack_png\", exist_ok=True)\n",
    "\n",
    "    crack_pos_first = data.particles[\"Position\"][cracked_id][:, :2]\n",
    "\n",
    "    fig, ax = plt.subplots(1, 2, figsize=(60, 30))\n",
    "    \n",
    "    ax[0].scatter(data_df['x'], data_df['y'], s=10, c=data_df['type'], cmap='viridis')\n",
    "    ax[0].scatter(crack_pos_first[:, 0], crack_pos_first[:, 1], s=25, c='red')\n",
    "\n",
    "    ax[1].scatter(data_final_df['x'], data_final_df['y'], s=10, c=data_final_df['type'], cmap='viridis')\n",
    "    ax[1].scatter(crack_pos_final[:, 0], crack_pos_final[:, 1], s=25, c='red')\n",
    "\n",
    "    plt.savefig(f\"crack_png/{file_name}.png\", dpi=300)\n",
    "    plt.close()"
   ]
  },
  {
   "cell_type": "code",
   "execution_count": 17,
   "metadata": {},
   "outputs": [],
   "source": [
    "input_directory = \"data\"\n",
    "file_list = [os.path.join(input_directory, file) for file in os.listdir(input_directory) if file.endswith(\".dump\")]\n"
   ]
  },
  {
   "cell_type": "code",
   "execution_count": 18,
   "metadata": {},
   "outputs": [
    {
     "name": "stdout",
     "output_type": "stream",
     "text": [
      "Processing file: data/ani_density_[50]location[normal]_fibersize[normal]_seed[1][21].dump\n"
     ]
    },
    {
     "ename": "KeyboardInterrupt",
     "evalue": "Operation has been canceled by the user.",
     "output_type": "error",
     "traceback": [
      "\u001b[0;31m---------------------------------------------------------------------------\u001b[0m",
      "\u001b[0;31mKeyboardInterrupt\u001b[0m                         Traceback (most recent call last)",
      "Cell \u001b[0;32mIn[18], line 3\u001b[0m\n\u001b[1;32m      1\u001b[0m \u001b[38;5;28;01mfor\u001b[39;00m file_path \u001b[38;5;129;01min\u001b[39;00m file_list:\n\u001b[1;32m      2\u001b[0m     \u001b[38;5;28mprint\u001b[39m(\u001b[38;5;124mf\u001b[39m\u001b[38;5;124m\"\u001b[39m\u001b[38;5;124mProcessing file: \u001b[39m\u001b[38;5;132;01m{\u001b[39;00mfile_path\u001b[38;5;132;01m}\u001b[39;00m\u001b[38;5;124m\"\u001b[39m)\n\u001b[0;32m----> 3\u001b[0m     \u001b[43mprocess_file\u001b[49m\u001b[43m(\u001b[49m\u001b[43mfile_path\u001b[49m\u001b[43m)\u001b[49m\n\u001b[1;32m      5\u001b[0m \u001b[38;5;28mprint\u001b[39m(\u001b[38;5;124m\"\u001b[39m\u001b[38;5;124mAll files processed.\u001b[39m\u001b[38;5;124m\"\u001b[39m)\n",
      "Cell \u001b[0;32mIn[16], line 2\u001b[0m, in \u001b[0;36mprocess_file\u001b[0;34m(file_path)\u001b[0m\n\u001b[1;32m      1\u001b[0m \u001b[38;5;28;01mdef\u001b[39;00m \u001b[38;5;21mprocess_file\u001b[39m(file_path):\n\u001b[0;32m----> 2\u001b[0m     pipeline \u001b[38;5;241m=\u001b[39m \u001b[43mimport_file\u001b[49m\u001b[43m(\u001b[49m\u001b[43mfile_path\u001b[49m\u001b[43m,\u001b[49m\u001b[43m \u001b[49m\u001b[43msort_particles\u001b[49m\u001b[38;5;241;43m=\u001b[39;49m\u001b[38;5;28;43;01mTrue\u001b[39;49;00m\u001b[43m)\u001b[49m\n\u001b[1;32m      4\u001b[0m     data \u001b[38;5;241m=\u001b[39m pipeline\u001b[38;5;241m.\u001b[39mcompute(\u001b[38;5;241m0\u001b[39m)\n\u001b[1;32m      5\u001b[0m     numOfFinalFrame \u001b[38;5;241m=\u001b[39m pipeline\u001b[38;5;241m.\u001b[39msource\u001b[38;5;241m.\u001b[39mnum_frames \u001b[38;5;241m-\u001b[39m \u001b[38;5;241m1\u001b[39m\n",
      "File \u001b[0;32m/opt/miniconda3/envs/ovito_env/lib/python3.8/site-packages/ovito/io/_import_file_func.py:158\u001b[0m, in \u001b[0;36mimport_file\u001b[0;34m(location, **params)\u001b[0m\n\u001b[1;32m    156\u001b[0m     \u001b[38;5;66;03m# Block until full list of animation frames is available.\u001b[39;00m\n\u001b[1;32m    157\u001b[0m     \u001b[38;5;28;01mif\u001b[39;00m \u001b[38;5;28misinstance\u001b[39m(pipeline\u001b[38;5;241m.\u001b[39msource, FileSource):\n\u001b[0;32m--> 158\u001b[0m         \u001b[43mpipeline\u001b[49m\u001b[38;5;241;43m.\u001b[39;49m\u001b[43msource\u001b[49m\u001b[38;5;241;43m.\u001b[39;49m\u001b[43mwait_for_frames_list\u001b[49m\u001b[43m(\u001b[49m\u001b[43m)\u001b[49m\n\u001b[1;32m    160\u001b[0m \u001b[38;5;28;01mexcept\u001b[39;00m:\n\u001b[1;32m    161\u001b[0m     \u001b[38;5;66;03m# Delete newly created pipeline in case of failure.\u001b[39;00m\n\u001b[1;32m    162\u001b[0m     pipeline\u001b[38;5;241m.\u001b[39mdelete()\n",
      "\u001b[0;31mKeyboardInterrupt\u001b[0m: Operation has been canceled by the user."
     ]
    }
   ],
   "source": [
    "\n",
    "for file_path in file_list:\n",
    "    print(f\"Processing file: {file_path}\")\n",
    "    process_file(file_path)\n",
    "\n",
    "print(\"All files processed.\")"
   ]
  }
 ],
 "metadata": {
  "kernelspec": {
   "display_name": "ovito_env",
   "language": "python",
   "name": "python3"
  },
  "language_info": {
   "codemirror_mode": {
    "name": "ipython",
    "version": 3
   },
   "file_extension": ".py",
   "mimetype": "text/x-python",
   "name": "python",
   "nbconvert_exporter": "python",
   "pygments_lexer": "ipython3",
   "version": "3.8.19"
  }
 },
 "nbformat": 4,
 "nbformat_minor": 2
}
