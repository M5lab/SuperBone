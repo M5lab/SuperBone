{
 "cells": [
  {
   "cell_type": "code",
   "execution_count": 1,
   "id": "2d5421d4",
   "metadata": {},
   "outputs": [],
   "source": [
    "import os\n",
    "from IPython.display import display, clear_output \n",
    "import pandas as pd\n",
    "import numpy as np\n",
    "from pathlib import Path\n",
    "from tqdm import tqdm\n",
    "import shutil\n",
    "\n",
    "from DCMtoIMG.file_processor import *\n",
    "from DCMtoIMG.DCM_processor import *\n",
    "from DCMtoIMG.split_image import *\n",
    "from DCMtoIMG.split_mask import *\n",
    "from DCMtoIMG.save_section_image import *\n",
    "\n",
    "pd.set_option('display.max_columns', None)\n",
    "pd.set_option('display.max_rows', None)\n",
    "\n",
    "def img_show(img_mtx, figsize=(12,12)): \n",
    "    \n",
    "    '''Convert pixel matrix into png image without axis\n",
    "    '''    \n",
    "    plt.figure(figsize=figsize)\n",
    "    plt.imshow(img_mtx, cmap='gray')\n",
    "    plt.axis('off')\n",
    "    plt.show()  "
   ]
  },
  {
   "cell_type": "code",
   "execution_count": 8,
   "id": "76cf78e4",
   "metadata": {},
   "outputs": [
    {
     "name": "stdout",
     "output_type": "stream",
     "text": [
      "Import Folder : D:/dcm_src/Aves/Rheiformes/Rheidae/Rhea_americana-greater_rhea/TMT\n"
     ]
    }
   ],
   "source": [
    "\"\"\"Get the width and height of the terminal window.\n",
    "\"\"\"\n",
    "width, height = shutil.get_terminal_size((80, 20))\n",
    "\n",
    "\"\"\"\n",
    "    :param work_dir (str) : Current working directory\n",
    "    :param main_dir (str) : Always be set to ./SuperBone_ver1\n",
    "    :param output_dir (str) : The default directory where all outputs are stored\n",
    "\"\"\"  \n",
    "\n",
    "work_dir = os.getcwd()\n",
    "main_dir = os.path.dirname(work_dir)\n",
    "initial_dir = os.path.join(os.path.dirname(main_dir),'dcm_src')   \n",
    "output_dir = os.path.join(os.path.dirname(main_dir),'img_src_all')\n",
    "\n",
    "import FileChooser\n",
    "\n",
    "\"\"\"Initialize the class and set the initial directory, file type, and the type of file/folder to choose\n",
    "\n",
    "    :param initial_dir (str) : Initial directory to open the file dialog\n",
    "    :param file_type (str) : The type of file to select (e.g. \"Image\", \"DICOM\",...)\n",
    "    :param choose_type (str) : The type of file/folder to select (\"File\", \"Folder\", \"Multiple Files\")\n",
    "\"\"\"  \n",
    "\n",
    "selector = FileChooser.Selector(initial_dir, file_type = \"DICOM\", choose_type = \"Folder\")\n",
    "\n",
    "\"\"\"Open a file dialog windows and return the source path\n",
    "    \n",
    "    :param dir_path (str) : The absolute path of the directory where all input files are stored\n",
    "\"\"\"\n",
    "\n",
    "dir_path = selector.run()"
   ]
  },
  {
   "cell_type": "code",
   "execution_count": null,
   "id": "efefc2fa",
   "metadata": {},
   "outputs": [],
   "source": [
    "os.chdir(dir_path)"
   ]
  },
  {
   "cell_type": "code",
   "execution_count": 9,
   "id": "07dd48ed",
   "metadata": {
    "scrolled": false
   },
   "outputs": [
    {
     "name": "stdout",
     "output_type": "stream",
     "text": [
      "Original pixel spacing : 0.199219 mm\n",
      "Number of DICOM files from Aves\\Rheiformes\\Rheidae\\Rhea_americana-greater_rhea\\TMT : 290\n"
     ]
    },
    {
     "name": "stderr",
     "output_type": "stream",
     "text": [
      "                                                          \r"
     ]
    },
    {
     "name": "stdout",
     "output_type": "stream",
     "text": [
      "Number of All Section Images for Aves\\Rheiformes\\Rheidae\\Rhea_americana-greater_rhea\\TMT : 3298\n",
      "All done for this directory: Aves\\Rheiformes\\Rheidae\\Rhea_americana-greater_rhea\\TMT\n"
     ]
    }
   ],
   "source": [
    "search_csv_path = os.path.join(main_dir,'search_output.csv')\n",
    "search_csv = pd.read_csv(search_csv_path,sep=',')\n",
    "\n",
    "rel_dir_path = os.path.relpath(dir_path, initial_dir)\n",
    "name_list = list(Path(rel_dir_path).parts)\n",
    "\n",
    "def df_filter(name_list):\n",
    "    search_filter = search_csv.iloc[:,[0,1,2,3,4,5,8]]\n",
    "    search_filter = search_filter[search_csv['Scan Options']=='AXIAL MODE']\n",
    "    try:\n",
    "        search_filter = search_filter[search_filter['Class']==name_list[0]]\n",
    "        search_filter = search_filter[search_filter['Order']==name_list[1]]\n",
    "        search_filter = search_filter[search_filter['Family']==name_list[2]]\n",
    "        search_filter = search_filter[search_filter['Genus-Species']==name_list[3]]\n",
    "        search_filter = search_filter[search_filter['Part']==name_list[4]]\n",
    "    except:\n",
    "        pass\n",
    "    return search_filter\n",
    "\n",
    "def dcm_skeleton(dcm_srcfile, dir_save, rescale_num):\n",
    "    file = Dcm(dcm_srcfile, dir_save)\n",
    "    file.dcm_to_img()\n",
    "    img_skeletionize = file.skeletionize_img() \n",
    "    if np.count_nonzero(img_skeletionize>0) > 2000:\n",
    "        file.rescaled_img(rescale_num)\n",
    "        file.cropped_img(rescale_num)\n",
    "        file.cropped_mask() \n",
    "\n",
    "def split(dir_save, div_x, div_y, off_x, off_y, iteration):\n",
    "    file = img_mask_all(dir_save, div_x, div_y, off_x, off_y)\n",
    "    section_white_num = file.split_img()\n",
    "    if section_white_num>0:\n",
    "        file = img_all(dir_save, div_x, div_y, off_x, off_y)\n",
    "        file.split_img()\n",
    "        section_all, section_num = file.split_all_img()\n",
    "        for section_index, sub_section in zip(section_num, section_all):\n",
    "            save_section = Sect(dir_save, section_index, sub_section, off_x, off_y)\n",
    "            section_img = save_section.save_section_img()   \n",
    "        iteration = iteration+len(section_num)\n",
    "    return iteration\n",
    "\n",
    "\"\"\"\n",
    "    :param offset_x, offset_y (numpy.ndarray) : The x and y ranges for the image offsets\n",
    "    :param div_x, div_y (int) : The number of divisions along the x and y axis respectively (2,4,5,6,8)\n",
    "    :param std_pixel_spacing (float) : The standardized pixel spacing for every image (Default value = 0.35mm)\n",
    "    :param rescale_num (float) : The ratio of scaling image\n",
    "\"\"\"\n",
    "\n",
    "offset_x, offset_y = np.arange(-80,80+10,10), np.arange(-80,80+10,10)\n",
    "\n",
    "div_x, div_y = 10, 10\n",
    "\n",
    "std_pixel_spacing = 0.35\n",
    "\n",
    "for index, row in df_filter(name_list).iterrows():\n",
    "    rescale_num = std_pixel_spacing/float(row[6])\n",
    "    print('Original pixel spacing : {} mm'.format(float(row[6])))\n",
    "\n",
    "    files = file_preprocesser(main_dir, initial_dir, output_dir, row)    \n",
    "\n",
    "    \"\"\"Find all the DICOM files in the source directory and returns the file paths in a list.\n",
    "    \"\"\"\n",
    "    dir_src_path, dcms_in_dir = files.find_all_dcm()\n",
    "    print('Number of DICOM files from {} : {}'.format(os.path.relpath(dir_src_path, initial_dir), len(dcms_in_dir)))  \n",
    "\n",
    "    iteration = 0\n",
    "\n",
    "    for dcm_srcfile in tqdm(dcms_in_dir, desc='Procrssing File', \n",
    "                            position=0, ncols = width -40, leave=False):\n",
    "        dir_save = files.save_dir(dcm_srcfile)\n",
    "        imgs_in_dir = files.find_all_img()\n",
    "\n",
    "        if len(imgs_in_dir)>0:\n",
    "            print('Section images already exist. Number of images : {}'.format(len(imgs_in_dir)))\n",
    "            files.delete_dir(dir_save)\n",
    "            iteration = iteration+len(imgs_in_dir)\n",
    "        else:\n",
    "            try:\n",
    "                dcm_skeleton(dcm_srcfile, dir_save, rescale_num)\n",
    "                for off_x in offset_x:\n",
    "                    for off_y in offset_y:\n",
    "                        iteration = split(dir_save, div_x, div_y, off_x, off_y, iteration)\n",
    "\n",
    "            except:\n",
    "                pass\n",
    "\n",
    "            if len(os.listdir(dir_save)) <= 4:                \n",
    "                files.delete_dcm_img(dir_save)\n",
    "                files.delete_dir(dir_save)\n",
    "            else: \n",
    "                files.delete_dcm_img(dir_save)\n",
    "                files.move_section_img(dir_save)\n",
    "                files.delete_dir(dir_save)   \n",
    "                \n",
    "\n",
    "    print('Number of All Section Images for {} : {}'.format(os.path.relpath(dir_src_path, initial_dir), iteration))\n",
    "\n",
    "    search_csv = pd.read_csv(search_csv_path,sep=',')\n",
    "    search_csv['Number of Section Images'].iloc[index] = iteration\n",
    "    search_csv.to_csv(search_csv_path,sep=',',index=0)  \n",
    "    \n",
    "print('All done for this directory: {}'.format(os.path.relpath(dir_path,initial_dir)))     "
   ]
  },
  {
   "cell_type": "code",
   "execution_count": null,
   "id": "aaa34393",
   "metadata": {},
   "outputs": [],
   "source": []
  }
 ],
 "metadata": {
  "kernelspec": {
   "display_name": "Python 3 (ipykernel)",
   "language": "python",
   "name": "python3"
  },
  "language_info": {
   "codemirror_mode": {
    "name": "ipython",
    "version": 3
   },
   "file_extension": ".py",
   "mimetype": "text/x-python",
   "name": "python",
   "nbconvert_exporter": "python",
   "pygments_lexer": "ipython3",
   "version": "3.9.13"
  }
 },
 "nbformat": 4,
 "nbformat_minor": 5
}
