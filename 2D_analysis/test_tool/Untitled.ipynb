{
 "cells": [
  {
   "cell_type": "code",
   "execution_count": 70,
   "id": "cb993975",
   "metadata": {},
   "outputs": [],
   "source": [
    "# !/usr/bin/env python3\n",
    "# -*- coding: utf-8 -*-\n",
    "\n",
    "import os\n",
    "import re\n",
    "from IPython.display import display\n",
    "import matplotlib.pyplot as plt\n",
    "import cv2 as cv\n",
    "import numpy as np\n",
    "import pandas as pd\n",
    "from skimage import measure,color,morphology\n",
    "from scipy.stats import norm\n",
    "from PIL import Image\n",
    "import math\n",
    "import shutil\n",
    "# from tqdm import tqdm\n",
    "\n",
    "# ======\n",
    "\n",
    "def img_show(img_mtx, figsize=(6,6)):\n",
    "\n",
    "    '''Convert pixel matrix into png image without axis\n",
    "    '''\n",
    "    plt.figure(figsize=figsize)\n",
    "    plt.imshow(img_mtx, cmap='gray')\n",
    "    plt.axis('off')\n",
    "    plt.show() \n",
    "\n",
    "# === Function(Convert png image into pixel matrix) ===\n",
    "\n",
    "def img_arr(image_path,multi=1):\n",
    "    try:\n",
    "        with Image.open(image_path) as img:\n",
    "            img = img.convert('L')\n",
    "            img.load()\n",
    "            img_array = np.array(img,np.uint8)\n",
    "            img = img.resize((img_array.shape[0]*multi,img_array.shape[1]*multi),resample=Image.ANTIALIAS)\n",
    "            array = np.array(img,np.uint8)\n",
    "            array.setflags(write=1)\n",
    "            return array\n",
    "    except OSError as e:\n",
    "        raise OSError(\"Failed to open image file\") from e "
   ]
  },
  {
   "cell_type": "code",
   "execution_count": 122,
   "id": "56fa38b5",
   "metadata": {},
   "outputs": [
    {
     "name": "stdout",
     "output_type": "stream",
     "text": [
      "Import File : C:/Users/marsh/OneDrive/桌面/SuperBone_ver1.30/img_src/pattern_src_1/M_CERVUS_D_METATARSUS_ID[033]_s[56]_x[80]_y[60].png\n"
     ]
    }
   ],
   "source": [
    "\"\"\"Get the width and height of the terminal window.\n",
    "\"\"\"\n",
    "\n",
    "width, height = shutil.get_terminal_size((80, 20))\n",
    "\n",
    "\"\"\"\n",
    "    :param work_dir (str) : Current working directory\n",
    "    :param main_dir (str) : Always be set to ./SuperBone_ver1\n",
    "    :param output_dir (str) : The default directory where all outputs are stored\n",
    "\"\"\"  \n",
    "\n",
    "work_dir = os.getcwd()\n",
    "main_dir = os.path.dirname(work_dir)\n",
    "initial_dir = os.path.join(main_dir,'img_src')   \n",
    "output_dir = os.path.join(main_dir,'analyze_figure','cal_line')\n",
    "\n",
    "import FileChooser\n",
    "\n",
    "\"\"\"Initialize the class and set the initial directory, file type, and the type of file/folder to choose\n",
    "\n",
    "    :param initial_dir (str) : Initial directory to open the file dialog\n",
    "    :param file_type (str) : The type of file to select (e.g. \"Image\", \"DICOM\",...)\n",
    "    :param choose_type (str) : The type of file/folder to select (\"File\", \"Folder\", \"Multiple Files\")\n",
    "\"\"\"  \n",
    "\n",
    "selector = FileChooser.Selector(initial_dir, file_type = \"PNG\", choose_type = \"File\")\n",
    "\n",
    "\"\"\"Open a file dialog windows and return the source path\n",
    "\n",
    "    :param file_src_path (str) : The absolute path of the source image\n",
    "\"\"\"\n",
    "\n",
    "file_src_path = selector.run()"
   ]
  },
  {
   "cell_type": "code",
   "execution_count": 135,
   "id": "8cd508ae",
   "metadata": {
    "scrolled": false
   },
   "outputs": [
    {
     "name": "stderr",
     "output_type": "stream",
     "text": [
      "C:\\Users\\marsh\\AppData\\Local\\Temp\\ipykernel_15784\\3501920769.py:37: DeprecationWarning: ANTIALIAS is deprecated and will be removed in Pillow 10 (2023-07-01). Use Resampling.LANCZOS instead.\n",
      "  img = img.resize((img_array.shape[0]*multi,img_array.shape[1]*multi),resample=Image.ANTIALIAS)\n"
     ]
    },
    {
     "data": {
      "image/png": "[encoded data removed]",
      "text/plain": [
       "<Figure size 600x600 with 1 Axes>"
      ]
     },
     "metadata": {},
     "output_type": "display_data"
    }
   ],
   "source": [
    "from skimage import measure,color\n",
    "\n",
    "resize_img = img_arr(file_src_path) \n",
    "resize_img = resize_img/np.max(resize_img)\n",
    "resize_img = resize_img*255\n",
    "#img_show(resize_img)\n",
    "save_path = os.path.join(output_dir,'original.png')\n",
    "plt.imsave(save_path,resize_img,cmap='gray')\n",
    "\n",
    "horizontal = np.copy(resize_img)\n",
    "vertical = np.copy(resize_img)\n",
    "cols = horizontal.shape[1]\n",
    "horizontal_size = cols // 10\n",
    "\n",
    "horizontalStructure = cv.getStructuringElement(cv.MORPH_RECT, (horizontal_size, 1))\n",
    "\n",
    "horizontal = cv.erode(horizontal, horizontalStructure)\n",
    "horizontal = cv.dilate(horizontal, horizontalStructure)\n",
    "horizontal = horizontal/2\n",
    "# img_show(horizontal)\n",
    "save_path = os.path.join(output_dir,'horizontal.png')\n",
    "plt.imsave(save_path,horizontal,cmap='gray')\n",
    "\n",
    "rows = vertical.shape[0]\n",
    "vertical_size = rows // 10\n",
    "\n",
    "verticalStructure = cv.getStructuringElement(cv.MORPH_RECT, (1, vertical_size))\n",
    "\n",
    "vertical = cv.erode(vertical, verticalStructure)\n",
    "vertical = cv.dilate(vertical, verticalStructure)\n",
    "vertical = vertical/2\n",
    "# img_show(vertical)\n",
    "save_path = os.path.join(output_dir,'vertical.png')\n",
    "plt.imsave(save_path,vertical,cmap='gray')\n",
    "\n",
    "joints_img = cv.add(horizontal, vertical)\n",
    "joints_img = joints_img/np.max(joints_img)\n",
    "_, joints_thresh = cv.threshold(joints_img,0.9,1,cv.THRESH_BINARY)\n",
    "\n",
    "kernel = np.ones((3,3), np.uint8)\n",
    "joints_thresh = cv.dilate(joints_thresh, kernel)\n",
    "\n",
    "segment_img = resize_img.copy()\n",
    "segment_img[np.where(joints_thresh>0)] = 0\n",
    "save_path = os.path.join(output_dir,'non_joints.png')\n",
    "plt.imsave(save_path,segment_img,cmap='gray')\n",
    "\n",
    "segment_img = segment_img/2\n",
    "resize_img = resize_img/2\n",
    "new_img = cv.add(segment_img, resize_img)\n",
    "# img_show(new_img)\n",
    "save_path = os.path.join(output_dir,'joints.png')\n",
    "plt.imsave(save_path,new_img,cmap='gray')\n",
    "\n",
    "labels = measure.label(segment_img, background=0, connectivity=1)\n",
    "\n",
    "nlabel = len(np.unique(labels))\n",
    "dst = color.label2rgb(labels, colors=np.random.random((nlabel, 3)))\n",
    "img_show(dst)   \n",
    "save_path = os.path.join(output_dir,'dst.png')\n",
    "plt.imsave(save_path,dst,cmap='gray')\n",
    "     \n",
    "for i, region in enumerate(measure.regionprops(labels)):\n",
    "    if region.perimeter > 0:\n",
    "        black_img = np.zeros((resize_img.shape[0], resize_img.shape[1]))\n",
    "        black_img[region.coords[:,0],region.coords[:,1]] = 1\n",
    "        skel, distance = morphology.medial_axis(black_img, return_distance=True)\n",
    "        dist_on_skel = distance*skel             \n",
    "\n",
    "        _, skel_thresh = cv.threshold(dist_on_skel,0,1,cv.THRESH_BINARY)\n",
    "        line_length = np.count_nonzero(skel_thresh>0)\n",
    "        line_area = region.area\n",
    "        line_width = line_area/line_length\n",
    "        length = max(region.bbox[3]-region.bbox[1], region.bbox[2]-region.bbox[0])\n",
    "        curl = length/line_length"
   ]
  },
  {
   "cell_type": "code",
   "execution_count": null,
   "id": "bbb103fc",
   "metadata": {},
   "outputs": [],
   "source": []
  }
 ],
 "metadata": {
  "kernelspec": {
   "display_name": "Python 3 (ipykernel)",
   "language": "python",
   "name": "python3"
  },
  "language_info": {
   "codemirror_mode": {
    "name": "ipython",
    "version": 3
   },
   "file_extension": ".py",
   "mimetype": "text/x-python",
   "name": "python",
   "nbconvert_exporter": "python",
   "pygments_lexer": "ipython3",
   "version": "3.9.13"
  }
 },
 "nbformat": 4,
 "nbformat_minor": 5
}
