{
 "cells": [
  {
   "cell_type": "code",
   "execution_count": 1,
   "metadata": {},
   "outputs": [],
   "source": [
    "import os\n",
    "import pandas as pd\n",
    "import matplotlib.pyplot as plt\n",
    "from matplotlib import ticker\n",
    "import numpy as np\n",
    "from IPython.display import display\n",
    "import shutil\n",
    "from collections import OrderedDict"
   ]
  },
  {
   "cell_type": "code",
   "execution_count": 2,
   "metadata": {},
   "outputs": [
    {
     "name": "stdout",
     "output_type": "stream",
     "text": [
      "Import File : D:/SuperBone_ver1.20_copy/feature_output.csv\n"
     ]
    }
   ],
   "source": [
    "\"\"\"Get the width and height of the terminal window.\n",
    "\"\"\"\n",
    "\n",
    "width, height = shutil.get_terminal_size((80, 20))\n",
    "\n",
    "\"\"\"\n",
    "    :param work_dir (str) : Current working directory\n",
    "    :param main_dir (str) : Always be set to ./SuperBone_ver1\n",
    "    :param output_dir (str) : The default directory where all outputs are stored\n",
    "\"\"\"  \n",
    "\n",
    "work_dir = os.getcwd()\n",
    "main_dir = os.path.dirname(work_dir)\n",
    "initial_dir = main_dir\n",
    "output_dir = os.path.join(main_dir,'analyze_figure')\n",
    "\n",
    "import FileChooser\n",
    "\n",
    "\"\"\"Initialize the class and set the initial directory, file type, and the type of file/folder to choose\n",
    "\n",
    "    :param initial_dir (str) : Initial directory to open the file dialog\n",
    "    :param file_type (str) : The type of file to select (e.g. \"Image\", \"DICOM\",...)\n",
    "    :param choose_type (str) : The type of file/folder to select (\"File\", \"Folder\", \"Multiple Files\")\n",
    "\"\"\"  \n",
    "\n",
    "selector = FileChooser.Selector(initial_dir, file_type = \"CSV\", choose_type = \"File\")\n",
    "\n",
    "\"\"\"Open a file dialog windows and return the source path\n",
    "\n",
    "    :param file_src_path (str) : The absolute path of the source image\n",
    "\"\"\"\n",
    "\n",
    "file_src_path = selector.run()"
   ]
  },
  {
   "cell_type": "code",
   "execution_count": 5,
   "metadata": {},
   "outputs": [
    {
     "data": {
      "text/html": [
       "<div>\n",
       "<style scoped>\n",
       "    .dataframe tbody tr th:only-of-type {\n",
       "        vertical-align: middle;\n",
       "    }\n",
       "\n",
       "    .dataframe tbody tr th {\n",
       "        vertical-align: top;\n",
       "    }\n",
       "\n",
       "    .dataframe thead th {\n",
       "        text-align: right;\n",
       "    }\n",
       "</style>\n",
       "<table border=\"1\" class=\"dataframe\">\n",
       "  <thead>\n",
       "    <tr style=\"text-align: right;\">\n",
       "      <th></th>\n",
       "      <th>Class</th>\n",
       "      <th>Patient Name</th>\n",
       "      <th>ID</th>\n",
       "      <th>Section</th>\n",
       "      <th>Offset_X</th>\n",
       "      <th>Offset_Y</th>\n",
       "      <th>Porosity</th>\n",
       "      <th>Ave Bone Angle</th>\n",
       "      <th>Std Bone Angle</th>\n",
       "      <th>Ave Thinkness</th>\n",
       "      <th>...</th>\n",
       "      <th>Ave Compactness</th>\n",
       "      <th>Std Compactness</th>\n",
       "      <th>Ave Circularity</th>\n",
       "      <th>Std Circularity</th>\n",
       "      <th>Ave Width to Length</th>\n",
       "      <th>Std Width to Length</th>\n",
       "      <th>Ave Centroid_X</th>\n",
       "      <th>Std Centroid_X</th>\n",
       "      <th>Ave Centroid_Y</th>\n",
       "      <th>Std Centroid_Y</th>\n",
       "    </tr>\n",
       "  </thead>\n",
       "  <tbody>\n",
       "    <tr>\n",
       "      <th>0</th>\n",
       "      <td>Aves</td>\n",
       "      <td>RHEA_TBT</td>\n",
       "      <td>22</td>\n",
       "      <td>55</td>\n",
       "      <td>-50</td>\n",
       "      <td>-80</td>\n",
       "      <td>0.577855</td>\n",
       "      <td>48.57</td>\n",
       "      <td>33.52</td>\n",
       "      <td>2.146</td>\n",
       "      <td>...</td>\n",
       "      <td>0.790</td>\n",
       "      <td>0.166</td>\n",
       "      <td>1.066</td>\n",
       "      <td>0.810</td>\n",
       "      <td>0.679</td>\n",
       "      <td>0.225</td>\n",
       "      <td>50.335</td>\n",
       "      <td>32.390</td>\n",
       "      <td>58.798</td>\n",
       "      <td>30.785</td>\n",
       "    </tr>\n",
       "    <tr>\n",
       "      <th>1</th>\n",
       "      <td>Aves</td>\n",
       "      <td>RHEA_TBT</td>\n",
       "      <td>22</td>\n",
       "      <td>55</td>\n",
       "      <td>-40</td>\n",
       "      <td>-80</td>\n",
       "      <td>0.580834</td>\n",
       "      <td>48.62</td>\n",
       "      <td>33.59</td>\n",
       "      <td>2.099</td>\n",
       "      <td>...</td>\n",
       "      <td>0.803</td>\n",
       "      <td>0.174</td>\n",
       "      <td>1.404</td>\n",
       "      <td>2.210</td>\n",
       "      <td>0.678</td>\n",
       "      <td>0.230</td>\n",
       "      <td>51.185</td>\n",
       "      <td>30.413</td>\n",
       "      <td>59.668</td>\n",
       "      <td>31.538</td>\n",
       "    </tr>\n",
       "    <tr>\n",
       "      <th>2</th>\n",
       "      <td>Aves</td>\n",
       "      <td>RHEA_TBT</td>\n",
       "      <td>22</td>\n",
       "      <td>56</td>\n",
       "      <td>50</td>\n",
       "      <td>-80</td>\n",
       "      <td>0.569973</td>\n",
       "      <td>47.39</td>\n",
       "      <td>33.36</td>\n",
       "      <td>2.060</td>\n",
       "      <td>...</td>\n",
       "      <td>0.769</td>\n",
       "      <td>0.172</td>\n",
       "      <td>1.191</td>\n",
       "      <td>1.776</td>\n",
       "      <td>0.678</td>\n",
       "      <td>0.222</td>\n",
       "      <td>50.985</td>\n",
       "      <td>30.562</td>\n",
       "      <td>59.658</td>\n",
       "      <td>30.243</td>\n",
       "    </tr>\n",
       "  </tbody>\n",
       "</table>\n",
       "<p>3 rows × 29 columns</p>\n",
       "</div>"
      ],
      "text/plain": [
       "  Class Patient Name  ID  Section  Offset_X  Offset_Y  Porosity  \\\n",
       "0  Aves     RHEA_TBT  22       55       -50       -80  0.577855   \n",
       "1  Aves     RHEA_TBT  22       55       -40       -80  0.580834   \n",
       "2  Aves     RHEA_TBT  22       56        50       -80  0.569973   \n",
       "\n",
       "   Ave Bone Angle  Std Bone Angle  Ave Thinkness  ...  Ave Compactness  \\\n",
       "0           48.57           33.52          2.146  ...            0.790   \n",
       "1           48.62           33.59          2.099  ...            0.803   \n",
       "2           47.39           33.36          2.060  ...            0.769   \n",
       "\n",
       "   Std Compactness  Ave Circularity  Std Circularity  Ave Width to Length  \\\n",
       "0            0.166            1.066            0.810                0.679   \n",
       "1            0.174            1.404            2.210                0.678   \n",
       "2            0.172            1.191            1.776                0.678   \n",
       "\n",
       "   Std Width to Length  Ave Centroid_X  Std Centroid_X  Ave Centroid_Y  \\\n",
       "0                0.225          50.335          32.390          58.798   \n",
       "1                0.230          51.185          30.413          59.668   \n",
       "2                0.222          50.985          30.562          59.658   \n",
       "\n",
       "   Std Centroid_Y  \n",
       "0          30.785  \n",
       "1          31.538  \n",
       "2          30.243  \n",
       "\n",
       "[3 rows x 29 columns]"
      ]
     },
     "metadata": {},
     "output_type": "display_data"
    }
   ],
   "source": [
    "df_feature = pd.read_csv(file_src_path,sep=',')\n",
    "# display(df_feature)"
   ]
  },
  {
   "cell_type": "code",
   "execution_count": 7,
   "metadata": {},
   "outputs": [
    {
     "name": "stdout",
     "output_type": "stream",
     "text": [
      "Plot file saved : feature_scatter.png\n"
     ]
    },
    {
     "data": {
      "image/png": "[encoded data removed]",
      "text/plain": [
       "<Figure size 1234.29x864 with 1 Axes>"
      ]
     },
     "metadata": {
      "needs_background": "light"
     },
     "output_type": "display_data"
    }
   ],
   "source": [
    "fig, ax = plt.subplots(figsize=plt.figaspect(0.7)*3) \n",
    "for patient_name, x, y in zip(df_feature['Patient Name'], \n",
    "                                  df_feature['Ave Bone Angle'], df_feature['Ave Compactness']):\n",
    "    plt.scatter(x, y, label=patient_name)\n",
    "    \n",
    "plt.xticks(fontsize=18) \n",
    "plt.xlabel('Ave Bone Angle',fontsize=22,labelpad=10)\n",
    "plt.yticks(fontsize=18) \n",
    "plt.ylabel('Ave Compactness',fontsize=22,labelpad=10)\n",
    "\n",
    "handles, labels = plt.gca().get_legend_handles_labels()\n",
    "by_label = OrderedDict(zip(labels, handles))\n",
    "plt.legend(by_label.values(), by_label.keys(), loc='best', fontsize=15)   \n",
    "\n",
    "save_path = os.path.join(output_dir,'feature_scatter.png')\n",
    "plt.savefig(save_path, bbox_inches='tight',facecolor = 'white', dpi=100)\n",
    "print('Plot file saved : feature_scatter.png')\n",
    "plt.show()"
   ]
  },
  {
   "cell_type": "code",
   "execution_count": null,
   "metadata": {},
   "outputs": [],
   "source": []
  }
 ],
 "metadata": {
  "kernelspec": {
   "display_name": "Python 3 (ipykernel)",
   "language": "python",
   "name": "python3"
  },
  "language_info": {
   "codemirror_mode": {
    "name": "ipython",
    "version": 3
   },
   "file_extension": ".py",
   "mimetype": "text/x-python",
   "name": "python",
   "nbconvert_exporter": "python",
   "pygments_lexer": "ipython3",
   "version": "3.9.13"
  }
 },
 "nbformat": 4,
 "nbformat_minor": 2
}
