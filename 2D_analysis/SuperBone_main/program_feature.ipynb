{
 "cells": [
  {
   "cell_type": "code",
   "execution_count": 1,
   "id": "fc0ce664",
   "metadata": {},
   "outputs": [],
   "source": [
    "# !/usr/bin/env python3\n",
    "# -*- coding: utf-8 -*-\n",
    "\n",
    "import os\n",
    "from pathlib import Path\n",
    "from IPython.display import display, clear_output \n",
    "import pandas as pd\n",
    "import numpy as np\n",
    "from tqdm import tqdm\n",
    "from time import sleep\n",
    "import shutil\n",
    "\n",
    "from IMGtoFeature.feature_calculation import *\n",
    "from IMGtoFeature.feature_data import *\n",
    "from IMGtoFeature.file_processor import *\n",
    "from IMGtoFeature.resize_image import *\n",
    "\n",
    "pd.set_option('display.max_columns', None)\n",
    "pd.set_option('display.max_rows', None)   \n",
    "\n",
    "def img_show(img_mtx, figsize=(12,12)): \n",
    "    \n",
    "    '''Convert pixel matrix into png image without axis\n",
    "    '''    \n",
    "    plt.figure(figsize=figsize)\n",
    "    plt.imshow(img_mtx, cmap='gray')\n",
    "    plt.axis('off')\n",
    "    plt.show()  "
   ]
  },
  {
   "cell_type": "code",
   "execution_count": 2,
   "id": "de2e9312",
   "metadata": {},
   "outputs": [
    {
     "name": "stdout",
     "output_type": "stream",
     "text": [
      "Import Folder : C:/Users/marsh/OneDrive/桌面/SuperBone_ver1.30/img_src/pattern_src\n"
     ]
    }
   ],
   "source": [
    "\"\"\"Get the width and height of the terminal window.\n",
    "\"\"\"\n",
    "width, height = shutil.get_terminal_size((80, 20))\n",
    "\n",
    "\"\"\"\n",
    "    :param work_dir (str) : Current working directory\n",
    "    :param main_dir (str) : Always be set to ./SuperBone_ver1\n",
    "    :param output_dir (str) : The default directory where all outputs are stored\n",
    "\"\"\"  \n",
    "\n",
    "work_dir = os.getcwd()\n",
    "main_dir = os.path.dirname(work_dir)\n",
    "initial_dir = os.path.join(main_dir,'img_src')   \n",
    "output_dir = os.path.join(os.path.dirname(main_dir),'dcm_output','pattern_feature')\n",
    "\n",
    "import FileChooser\n",
    "\n",
    "\"\"\"Initialize the class and set the initial directory, file type, and the type of file/folder to choose\n",
    "\n",
    "    :param initial_dir (str) : Initial directory to open the file dialog\n",
    "    :param file_type (str) : The type of file to select (e.g. \"Image\", \"DICOM\",...)\n",
    "    :param choose_type (str) : The type of file/folder to select (\"File\", \"Folder\", \"Multiple Files\")\n",
    "\"\"\"  \n",
    "\n",
    "selector = FileChooser.Selector(initial_dir, file_type = \"PNG\", choose_type = \"Folder\")\n",
    "\n",
    "\"\"\"Open a file dialog windows and return the source path\n",
    "    \n",
    "    :param dir_path (str) : The absolute path of the directory where all input files are stored\n",
    "\"\"\"\n",
    "\n",
    "dir_src_path = selector.run()"
   ]
  },
  {
   "cell_type": "code",
   "execution_count": null,
   "id": "ef6713ef",
   "metadata": {},
   "outputs": [],
   "source": [
    "os.chdir(dir_src_path)"
   ]
  },
  {
   "cell_type": "code",
   "execution_count": 4,
   "id": "446def25",
   "metadata": {
    "scrolled": false
   },
   "outputs": [
    {
     "name": "stdout",
     "output_type": "stream",
     "text": [
      "Number of section images saved from img_src\\pattern_src : 1\n"
     ]
    },
    {
     "name": "stderr",
     "output_type": "stream",
     "text": [
      "                                                                                "
     ]
    },
    {
     "name": "stdout",
     "output_type": "stream",
     "text": [
      "Data file is saved : A_RHEA_TBT_ID[022]_s[55]_x[-40]_y[-80].csv\n",
      "\n",
      "\n",
      "All done for this directory: img_src\\pattern_src\n"
     ]
    },
    {
     "name": "stderr",
     "output_type": "stream",
     "text": [
      "\r"
     ]
    }
   ],
   "source": [
    "files = file_preprocesser(main_dir, output_dir, dir_src_path)\n",
    "\n",
    "imgs_in_dir = files.find_all_img()\n",
    "\n",
    "if len(imgs_in_dir)==0:\n",
    "     print('No section images saved from {}'.format(dir_src_path))\n",
    "else:\n",
    "    print('Number of section images saved from {} : {}'.format(os.path.relpath(dir_src_path,main_dir), len(imgs_in_dir)))\n",
    "    for img_path in tqdm(imgs_in_dir, desc='Procrssing File', \n",
    "                         position=0, ncols = width -40, leave=False):\n",
    "        img_name = Path(img_path).stem\n",
    "        csv_file = os.path.join(output_dir,img_name)+'.csv'\n",
    "        if os.path.isfile(csv_file):\n",
    "            print('Data file exist : {}'.format(os.path.relpath(csv_file,main_dir)))\n",
    "        else:\n",
    "            img = Sect_resize(img_path)\n",
    "            resize_img = img.section_img()\n",
    "            # img_show(resize_img)  \n",
    "\n",
    "            features = cal_data(resize_img, output_dir, img_name)\n",
    "            features.set_dataframe()\n",
    "            features.cal_porosity()\n",
    "            features.cal_line_angle()\n",
    "            features.cal_line()\n",
    "            features.cal_pore()\n",
    "            features.features_to_df()\n",
    "            print('Data file is saved : {}'.format(os.path.relpath(csv_file,output_dir))) \n",
    "        \n",
    "csvs_in_dir = files.find_all_csv()\n",
    "        \n",
    "for csv_path in tqdm(csvs_in_dir, desc='Procrssing CSV Data', \n",
    "                     position=0, ncols = width -40, leave=False):\n",
    "    features = Feature_analyze(main_dir, csv_path)\n",
    "    features.read_csv()\n",
    "\n",
    "print('\\n')\n",
    "print('All done for this directory: {}'.format(os.path.relpath(dir_src_path,main_dir)))        "
   ]
  },
  {
   "cell_type": "code",
   "execution_count": null,
   "id": "80e9a670",
   "metadata": {},
   "outputs": [],
   "source": []
  }
 ],
 "metadata": {
  "kernelspec": {
   "display_name": "Python 3 (ipykernel)",
   "language": "python",
   "name": "python3"
  },
  "language_info": {
   "codemirror_mode": {
    "name": "ipython",
    "version": 3
   },
   "file_extension": ".py",
   "mimetype": "text/x-python",
   "name": "python",
   "nbconvert_exporter": "python",
   "pygments_lexer": "ipython3",
   "version": "3.9.13"
  }
 },
 "nbformat": 4,
 "nbformat_minor": 5
}
