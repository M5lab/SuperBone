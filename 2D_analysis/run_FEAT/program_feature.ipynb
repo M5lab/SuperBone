{
 "cells": [
  {
   "cell_type": "code",
   "execution_count": 1,
   "id": "fc0ce664",
   "metadata": {},
   "outputs": [],
   "source": [
    "# !/usr/bin/env python3\n",
    "# -*- coding: utf-8 -*-\n",
    "\n",
    "import os\n",
    "from pathlib import Path\n",
    "from IPython.display import display, clear_output \n",
    "import pandas as pd\n",
    "import numpy as np\n",
    "from tqdm import tqdm\n",
    "import shutil\n",
    "\n",
    "from utils.show import img_show\n",
    "from modules import calculation, data, file_processor, resize"
   ]
  },
  {
   "cell_type": "code",
   "execution_count": 4,
   "id": "446def25",
   "metadata": {
    "scrolled": false
   },
   "outputs": [
    {
     "name": "stdout",
     "output_type": "stream",
     "text": [
      "Number of section images saved from img_src\\pattern_src : 1\n"
     ]
    },
    {
     "name": "stderr",
     "output_type": "stream",
     "text": [
      "                                                                                "
     ]
    },
    {
     "name": "stdout",
     "output_type": "stream",
     "text": [
      "Data file is saved : A_RHEA_TBT_ID[022]_s[55]_x[-40]_y[-80].csv\n",
      "\n",
      "\n",
      "All done for this directory: img_src\\pattern_src\n"
     ]
    },
    {
     "name": "stderr",
     "output_type": "stream",
     "text": [
      "\r"
     ]
    }
   ],
   "source": [
    "files = file_preprocesser(main_dir, output_dir, dir_src_path)\n",
    "\n",
    "imgs_in_dir = files.find_all_img()\n",
    "\n",
    "if len(imgs_in_dir)==0:\n",
    "     print('No section images saved from {}'.format(dir_src_path))\n",
    "else:\n",
    "    print('Number of section images saved from {} : {}'.format(os.path.relpath(dir_src_path,main_dir), len(imgs_in_dir)))\n",
    "    for img_path in tqdm(imgs_in_dir, desc='Procrssing File', \n",
    "                         position=0, ncols = width -40, leave=False):\n",
    "        img_name = Path(img_path).stem\n",
    "        csv_file = os.path.join(output_dir,img_name)+'.csv'\n",
    "        if os.path.isfile(csv_file):\n",
    "            print('Data file exist : {}'.format(os.path.relpath(csv_file,main_dir)))\n",
    "        else:\n",
    "            img = Sect_resize(img_path)\n",
    "            resize_img = img.section_img()\n",
    "            # img_show(resize_img)  \n",
    "\n",
    "            features = cal_data(resize_img, output_dir, img_name)\n",
    "            features.set_dataframe()\n",
    "            features.cal_porosity()\n",
    "            features.cal_line_angle()\n",
    "            features.cal_line()\n",
    "            features.cal_pore()\n",
    "            features.features_to_df()\n",
    "            print('Data file is saved : {}'.format(os.path.relpath(csv_file,output_dir))) \n",
    "        \n",
    "csvs_in_dir = files.find_all_csv()\n",
    "        \n",
    "for csv_path in tqdm(csvs_in_dir, desc='Procrssing CSV Data', \n",
    "                     position=0, ncols = width -40, leave=False):\n",
    "    features = Feature_analyze(main_dir, csv_path)\n",
    "    features.read_csv()\n",
    "\n",
    "print('\\n')\n",
    "print('All done for this directory: {}'.format(os.path.relpath(dir_src_path,main_dir)))        "
   ]
  },
  {
   "cell_type": "code",
   "execution_count": null,
   "id": "80e9a670",
   "metadata": {},
   "outputs": [],
   "source": []
  }
 ],
 "metadata": {
  "kernelspec": {
   "display_name": "Python 3 (ipykernel)",
   "language": "python",
   "name": "python3"
  },
  "language_info": {
   "codemirror_mode": {
    "name": "ipython",
    "version": 3
   },
   "file_extension": ".py",
   "mimetype": "text/x-python",
   "name": "python",
   "nbconvert_exporter": "python",
   "pygments_lexer": "ipython3",
   "version": "3.9.13"
  }
 },
 "nbformat": 4,
 "nbformat_minor": 5
}
