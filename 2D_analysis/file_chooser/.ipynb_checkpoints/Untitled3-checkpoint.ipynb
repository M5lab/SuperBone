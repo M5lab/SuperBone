{
 "cells": [
  {
   "cell_type": "code",
   "execution_count": 16,
   "metadata": {},
   "outputs": [],
   "source": [
    "import os\n",
    "from pathlib import Path\n",
    "import sys\n",
    "import traceback"
   ]
  },
  {
   "cell_type": "code",
   "execution_count": 5,
   "metadata": {},
   "outputs": [
    {
     "name": "stdout",
     "output_type": "stream",
     "text": [
      "[WindowsPath('pattern_src_1'), WindowsPath('pattern_src_2'), WindowsPath('pattern_src_3'), WindowsPath('pattern_src_4'), WindowsPath('pattern_src_5'), WindowsPath('pattern_src_6')]\n"
     ]
    }
   ],
   "source": [
    "work_dir = Path.cwd()\n",
    "main_dir = work_dir.parents[0]\n",
    "root_dir = work_dir.parents[1]\n",
    "\n",
    "img_src = os.path.join(main_dir, 'img_src')\n",
    "split_dirs = [Path(dir).resolve() for dir in os.listdir(img_src) if dir.startswith('pattern')]\n",
    "print(split_dirs)"
   ]
  },
  {
   "cell_type": "code",
   "execution_count": null,
   "metadata": {},
   "outputs": [],
   "source": [
    "def colorstr(color, string):\n",
    "    # Colors a string https://en.wikipedia.org/wiki/ANSI_escape_code, i.e.  colorstr('blue', 'hello world')\n",
    "    # Function is refered from YOLOv5 files\n",
    "    colors = {\n",
    "        'black': '\\033[30m',  # basic colors\n",
    "        'red': '\\033[31m',\n",
    "        'green': '\\033[32m',\n",
    "        'yellow': '\\033[33m',\n",
    "        'blue': '\\033[34m',\n",
    "        'magenta': '\\033[35m',\n",
    "        'cyan': '\\033[36m',\n",
    "        'white': '\\033[37m',\n",
    "        'bright_black': '\\033[90m',  # bright colors\n",
    "        'bright_red': '\\033[91m',\n",
    "        'bright_green': '\\033[92m',\n",
    "        'bright_yellow': '\\033[93m',\n",
    "        'bright_blue': '\\033[94m',\n",
    "        'bright_magenta': '\\033[95m',\n",
    "        'bright_cyan': '\\033[96m',\n",
    "        'bright_white': '\\033[97m',\n",
    "        'end': '\\033[0m',  # misc\n",
    "        'bold': '\\033[1m',\n",
    "        'underline': '\\033[4m'}\n",
    "    \n",
    "    return colors[color] + string + colors['end']\n",
    "\n",
    "a = colorstr('bright_blue','b')\n",
    "print(a)"
   ]
  },
  {
   "cell_type": "code",
   "execution_count": null,
   "metadata": {},
   "outputs": [],
   "source": [
    "import logging\n",
    "LOGGING_NAME = 'yolov5'\n",
    "LOGGER = logging.getLogger(LOGGING_NAME)\n",
    "\n",
    "print(LOGGER)"
   ]
  },
  {
   "cell_type": "code",
   "execution_count": null,
   "metadata": {},
   "outputs": [],
   "source": [
    "import inspect\n",
    "args = {'file_num': 5000, 'dir_num': 50, 'aly_type': 50}\n",
    "for k, v in args.items():\n",
    "    print(k, v)\n",
    "x = inspect.currentframe().f_back  # previous frame\n",
    "file, _, func, _, _ = inspect.getframeinfo(x)\n",
    "\n",
    "print(LOGGER.info(file, func))"
   ]
  },
  {
   "cell_type": "code",
   "execution_count": null,
   "metadata": {},
   "outputs": [],
   "source": [
    "import platform\n",
    "import sys\n",
    "\n",
    "system = platform.system()\n",
    "major = sys.version_info.major\n",
    "minor = sys.version_info.minor\n",
    "micro = sys.version_info.micro\n",
    "\n",
    "message = \"\"\"\n",
    "INCOMPATIBLE PYTHON VERSION\n",
    "\n",
    "This program is tested with 3.10.6 Python, but you have.\n",
    "If you encounter an error with \"RuntimeError: Couldn't install torch.\" message,\n",
    "or any other error regarding unsuccessful package (library) installation,\n",
    "please downgrade (or upgrade) to the latest version of 3.10 Python\n",
    "and delete current Python and \"venv\" folder in WebUI's directory.\n",
    "\n",
    "You can download 3.10 Python from here: https://www.python.org/downloads/release/python-3109/\n",
    "\n",
    "Use --skip-python-version-check to suppress this warning.\"\"\""
   ]
  },
  {
   "cell_type": "code",
   "execution_count": null,
   "metadata": {},
   "outputs": [],
   "source": [
    "import sys\n",
    "import traceback\n",
    "\n",
    "lines = message.strip().split(\"\\n\")\n",
    "max_len = max([len(x) for x in lines])\n",
    "print('=' * max_len, file=sys.stderr)"
   ]
  },
  {
   "cell_type": "code",
   "execution_count": null,
   "metadata": {},
   "outputs": [],
   "source": [
    "print('=' * max_len, file=sys.stderr)\n",
    "for line in lines:\n",
    "    print(line, file=sys.stderr)\n",
    "print('=' * max_len, file=sys.stderr)"
   ]
  },
  {
   "cell_type": "code",
   "execution_count": null,
   "metadata": {},
   "outputs": [],
   "source": [
    "skip_install = False\n",
    "\n",
    "def run_pip(args, desc=None):\n",
    "    if skip_install:\n",
    "        return\n",
    "\n",
    "    index_url_line = f' --index-url {index_url}' if index_url != '' else ''\n",
    "    return run(f'\"{python}\" -m pip {args} --prefer-binary{index_url_line}', desc=f\"Installing {desc}\", errdesc=f\"Couldn't install {desc}\")"
   ]
  },
  {
   "cell_type": "code",
   "execution_count": null,
   "metadata": {},
   "outputs": [],
   "source": [
    "environment_yml = \"environment.yml\"\n",
    "print(environment_yml)\n",
    "\n",
    "print(f\"install -r {environment_yml}\", \"requirements for Web UI\")"
   ]
  },
  {
   "cell_type": "code",
   "execution_count": null,
   "metadata": {},
   "outputs": [],
   "source": []
  }
 ],
 "metadata": {
  "kernelspec": {
   "display_name": "Python 3",
   "language": "python",
   "name": "python3"
  }
 },
 "nbformat": 4,
 "nbformat_minor": 2
}
